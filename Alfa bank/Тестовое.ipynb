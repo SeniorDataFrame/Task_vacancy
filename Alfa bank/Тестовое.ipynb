{
 "cells": [
  {
   "cell_type": "code",
   "execution_count": 2,
   "id": "29dd1808",
   "metadata": {},
   "outputs": [],
   "source": [
    "import sqlalchemy\n",
    "import sqlite3\n",
    "import pandas as pd"
   ]
  },
  {
   "cell_type": "markdown",
   "id": "9d62d912",
   "metadata": {},
   "source": [
    "# SQL"
   ]
  },
  {
   "cell_type": "markdown",
   "id": "06e9386b",
   "metadata": {},
   "source": [
    "## SQL 1"
   ]
  },
  {
   "cell_type": "markdown",
   "id": "176fde19",
   "metadata": {},
   "source": [
    "Отобрать клиентов по г. Москва с суммарными остатками по клиенту от 20 000 на последнюю дату. "
   ]
  },
  {
   "cell_type": "markdown",
   "id": "d68dd823",
   "metadata": {},
   "source": [
    "### Создаему таблицы"
   ]
  },
  {
   "cell_type": "code",
   "execution_count": 2,
   "id": "76945754",
   "metadata": {},
   "outputs": [],
   "source": [
    "conn = sqlite3.connect('orders.db')"
   ]
  },
  {
   "cell_type": "code",
   "execution_count": 3,
   "id": "c12d869b",
   "metadata": {},
   "outputs": [
    {
     "data": {
      "text/plain": [
       "<sqlite3.Cursor at 0x1f34b1c2420>"
      ]
     },
     "execution_count": 3,
     "metadata": {},
     "output_type": "execute_result"
    }
   ],
   "source": [
    "qu = '''\n",
    "create table clients (client_id varchar(1), FIO varchar (255) , Region varchar(50), account_num int) \n",
    "'''\n",
    "conn.execute(qu)"
   ]
  },
  {
   "cell_type": "code",
   "execution_count": 4,
   "id": "d366150c",
   "metadata": {},
   "outputs": [
    {
     "data": {
      "text/plain": [
       "<sqlite3.Cursor at 0x1f34b1c22d0>"
      ]
     },
     "execution_count": 4,
     "metadata": {},
     "output_type": "execute_result"
    }
   ],
   "source": [
    "qu = '''\n",
    "    insert into clients values  \n",
    "    ('A','Иванов','Москва',111), \n",
    "    ('A','Иванов','Москва',222), \n",
    "    ('B','Петров','Иваново',333), \n",
    "    ('C','Сидоров','Москва',444) \n",
    "'''\n",
    "conn.execute(qu)"
   ]
  },
  {
   "cell_type": "code",
   "execution_count": 5,
   "id": "61946523",
   "metadata": {},
   "outputs": [
    {
     "data": {
      "text/plain": [
       "<sqlite3.Cursor at 0x1f34b1c2880>"
      ]
     },
     "execution_count": 5,
     "metadata": {},
     "output_type": "execute_result"
    }
   ],
   "source": [
    "qu = '''\n",
    "create table accounts ([Date] date, Summa_USD money, Account_num int);\n",
    "'''\n",
    "conn.execute(qu)"
   ]
  },
  {
   "cell_type": "code",
   "execution_count": 6,
   "id": "e637cdbd",
   "metadata": {},
   "outputs": [
    {
     "data": {
      "text/plain": [
       "<sqlite3.Cursor at 0x1f34b1c29d0>"
      ]
     },
     "execution_count": 6,
     "metadata": {},
     "output_type": "execute_result"
    }
   ],
   "source": [
    "qu = '''\n",
    "insert into accounts values \n",
    "('2012-01-01',15000,111), \n",
    "('2012-02-01',10000,111), \n",
    "('2012-02-01',5000,222), \n",
    "('2012-03-01',30000,333), \n",
    "('2012-04-01',20000,444)\n",
    "'''\n",
    "conn.execute(qu)"
   ]
  },
  {
   "cell_type": "markdown",
   "id": "e77b70ef",
   "metadata": {},
   "source": [
    "### Решение"
   ]
  },
  {
   "cell_type": "code",
   "execution_count": 7,
   "id": "91adbe6e",
   "metadata": {},
   "outputs": [
    {
     "data": {
      "text/html": [
       "<div>\n",
       "<style scoped>\n",
       "    .dataframe tbody tr th:only-of-type {\n",
       "        vertical-align: middle;\n",
       "    }\n",
       "\n",
       "    .dataframe tbody tr th {\n",
       "        vertical-align: top;\n",
       "    }\n",
       "\n",
       "    .dataframe thead th {\n",
       "        text-align: right;\n",
       "    }\n",
       "</style>\n",
       "<table border=\"1\" class=\"dataframe\">\n",
       "  <thead>\n",
       "    <tr style=\"text-align: right;\">\n",
       "      <th></th>\n",
       "      <th>Account_num</th>\n",
       "      <th>Summa_USD</th>\n",
       "    </tr>\n",
       "  </thead>\n",
       "  <tbody>\n",
       "    <tr>\n",
       "      <th>0</th>\n",
       "      <td>333</td>\n",
       "      <td>30000</td>\n",
       "    </tr>\n",
       "    <tr>\n",
       "      <th>1</th>\n",
       "      <td>444</td>\n",
       "      <td>20000</td>\n",
       "    </tr>\n",
       "  </tbody>\n",
       "</table>\n",
       "</div>"
      ],
      "text/plain": [
       "   Account_num  Summa_USD\n",
       "0          333      30000\n",
       "1          444      20000"
      ]
     },
     "execution_count": 7,
     "metadata": {},
     "output_type": "execute_result"
    }
   ],
   "source": [
    "pd.read_sql(\"\"\"\n",
    "select Account_num, Summa_USD\n",
    "from (\n",
    "select  *, rank() over(PARTITION by  Account_num ORDER by Date desc) \"Порядок\"\n",
    "from accounts)\n",
    "join clients  using(\"Account_num\")\n",
    "where Порядок =1 and Summa_USD >= 20000\n",
    "\"\"\"\n",
    ", conn)"
   ]
  },
  {
   "cell_type": "markdown",
   "id": "07a09504",
   "metadata": {},
   "source": [
    "От 2000-0 включительно? К Сожалению в sqllite нет анналога DISTINCT *, пришлось делать через окно"
   ]
  },
  {
   "cell_type": "markdown",
   "id": "568b998d",
   "metadata": {},
   "source": [
    "## SQL 2"
   ]
  },
  {
   "cell_type": "markdown",
   "id": "f91ebf43",
   "metadata": {},
   "source": [
    "### Создаему таблицы"
   ]
  },
  {
   "cell_type": "code",
   "execution_count": 8,
   "id": "f10ef46d",
   "metadata": {},
   "outputs": [
    {
     "data": {
      "text/plain": [
       "<sqlite3.Cursor at 0x1f34b207420>"
      ]
     },
     "execution_count": 8,
     "metadata": {},
     "output_type": "execute_result"
    }
   ],
   "source": [
    "qu = '''\n",
    "create table oper (date date, cnt int) \n",
    "\n",
    "\n",
    "'''\n",
    "conn.execute(qu)"
   ]
  },
  {
   "cell_type": "code",
   "execution_count": 9,
   "id": "9a883bd2",
   "metadata": {},
   "outputs": [
    {
     "data": {
      "text/plain": [
       "<sqlite3.Cursor at 0x1f34b2075e0>"
      ]
     },
     "execution_count": 9,
     "metadata": {},
     "output_type": "execute_result"
    }
   ],
   "source": [
    "qu = '''\n",
    "insert into oper values \n",
    "('2019-06-02',     1985), \n",
    "('2019-06-03',     1577), \n",
    "('2019-06-04',     1597), \n",
    "('2019-06-05',     1468), \n",
    "('2019-07-06',     82), \n",
    "('2019-07-08',     1689), \n",
    "('2019-07-09',     1556), \n",
    "('2019-07-10',     1480), \n",
    "('2019-07-11',     1405), \n",
    "('2019-07-12',     1502) \n",
    "'''\n",
    "conn.execute(qu)"
   ]
  },
  {
   "cell_type": "markdown",
   "id": "b7250c80",
   "metadata": {},
   "source": [
    "### Решение"
   ]
  },
  {
   "cell_type": "code",
   "execution_count": 10,
   "id": "b506dc5a",
   "metadata": {},
   "outputs": [
    {
     "data": {
      "text/html": [
       "<div>\n",
       "<style scoped>\n",
       "    .dataframe tbody tr th:only-of-type {\n",
       "        vertical-align: middle;\n",
       "    }\n",
       "\n",
       "    .dataframe tbody tr th {\n",
       "        vertical-align: top;\n",
       "    }\n",
       "\n",
       "    .dataframe thead th {\n",
       "        text-align: right;\n",
       "    }\n",
       "</style>\n",
       "<table border=\"1\" class=\"dataframe\">\n",
       "  <thead>\n",
       "    <tr style=\"text-align: right;\">\n",
       "      <th></th>\n",
       "      <th>date</th>\n",
       "      <th>cumsum</th>\n",
       "    </tr>\n",
       "  </thead>\n",
       "  <tbody>\n",
       "    <tr>\n",
       "      <th>0</th>\n",
       "      <td>2019-06-02</td>\n",
       "      <td>1985</td>\n",
       "    </tr>\n",
       "    <tr>\n",
       "      <th>1</th>\n",
       "      <td>2019-06-03</td>\n",
       "      <td>3562</td>\n",
       "    </tr>\n",
       "    <tr>\n",
       "      <th>2</th>\n",
       "      <td>2019-06-04</td>\n",
       "      <td>5159</td>\n",
       "    </tr>\n",
       "    <tr>\n",
       "      <th>3</th>\n",
       "      <td>2019-06-05</td>\n",
       "      <td>6627</td>\n",
       "    </tr>\n",
       "    <tr>\n",
       "      <th>4</th>\n",
       "      <td>2019-07-06</td>\n",
       "      <td>82</td>\n",
       "    </tr>\n",
       "    <tr>\n",
       "      <th>5</th>\n",
       "      <td>2019-07-08</td>\n",
       "      <td>1771</td>\n",
       "    </tr>\n",
       "    <tr>\n",
       "      <th>6</th>\n",
       "      <td>2019-07-09</td>\n",
       "      <td>3327</td>\n",
       "    </tr>\n",
       "    <tr>\n",
       "      <th>7</th>\n",
       "      <td>2019-07-10</td>\n",
       "      <td>4807</td>\n",
       "    </tr>\n",
       "    <tr>\n",
       "      <th>8</th>\n",
       "      <td>2019-07-11</td>\n",
       "      <td>6212</td>\n",
       "    </tr>\n",
       "    <tr>\n",
       "      <th>9</th>\n",
       "      <td>2019-07-12</td>\n",
       "      <td>7714</td>\n",
       "    </tr>\n",
       "  </tbody>\n",
       "</table>\n",
       "</div>"
      ],
      "text/plain": [
       "         date  cumsum\n",
       "0  2019-06-02    1985\n",
       "1  2019-06-03    3562\n",
       "2  2019-06-04    5159\n",
       "3  2019-06-05    6627\n",
       "4  2019-07-06      82\n",
       "5  2019-07-08    1771\n",
       "6  2019-07-09    3327\n",
       "7  2019-07-10    4807\n",
       "8  2019-07-11    6212\n",
       "9  2019-07-12    7714"
      ]
     },
     "execution_count": 10,
     "metadata": {},
     "output_type": "execute_result"
    }
   ],
   "source": [
    "pd.read_sql(\"\"\"\n",
    "select date, sum(cnt) over(PARTITION by strftime('%Y-%m', date) order by date) cumsum\n",
    "from oper\n",
    "order by date\n",
    "\"\"\"\n",
    ", conn)"
   ]
  },
  {
   "cell_type": "markdown",
   "id": "659dc8cd",
   "metadata": {},
   "source": [
    "## SQL 3"
   ]
  },
  {
   "cell_type": "markdown",
   "id": "638acce7",
   "metadata": {},
   "source": [
    "### Создаему таблицы"
   ]
  },
  {
   "cell_type": "code",
   "execution_count": 13,
   "id": "fdbb20ba",
   "metadata": {},
   "outputs": [
    {
     "data": {
      "text/plain": [
       "<sqlite3.Cursor at 0x1f34b2499d0>"
      ]
     },
     "execution_count": 13,
     "metadata": {},
     "output_type": "execute_result"
    }
   ],
   "source": [
    "qu = '''\n",
    "create table segment ([date] date, ClientID varchar(6),SegmentID int) \n",
    "\n",
    "\n",
    "'''\n",
    "conn.execute(qu)"
   ]
  },
  {
   "cell_type": "code",
   "execution_count": 14,
   "id": "6643333b",
   "metadata": {},
   "outputs": [
    {
     "data": {
      "text/plain": [
       "<sqlite3.Cursor at 0x1f34cd82570>"
      ]
     },
     "execution_count": 14,
     "metadata": {},
     "output_type": "execute_result"
    }
   ],
   "source": [
    "qu = '''\n",
    "insert into segment values  \n",
    "('2018-01-31' ,'A11111', 2), \n",
    "('2018-02-28' ,'A11111', 2), \n",
    "('2018-03-31' ,'A11111', 1), \n",
    "('2018-04-30' ,'A11111', 1), \n",
    "('2017-11-30' ,'B22222', 1), \n",
    "('2017-10-31' ,'B22222', 1), \n",
    "('2017-09-30' ,'B22222', 3), \n",
    "('2017-09-30' ,'C33333', 1), \n",
    "('2017-10-31' ,'C33333', 1) \n",
    "\n",
    "\n",
    "'''\n",
    "conn.execute(qu)"
   ]
  },
  {
   "cell_type": "markdown",
   "id": "62e55768",
   "metadata": {},
   "source": [
    "### Решение"
   ]
  },
  {
   "cell_type": "code",
   "execution_count": 16,
   "id": "988b03a9",
   "metadata": {},
   "outputs": [
    {
     "data": {
      "text/html": [
       "<div>\n",
       "<style scoped>\n",
       "    .dataframe tbody tr th:only-of-type {\n",
       "        vertical-align: middle;\n",
       "    }\n",
       "\n",
       "    .dataframe tbody tr th {\n",
       "        vertical-align: top;\n",
       "    }\n",
       "\n",
       "    .dataframe thead th {\n",
       "        text-align: right;\n",
       "    }\n",
       "</style>\n",
       "<table border=\"1\" class=\"dataframe\">\n",
       "  <thead>\n",
       "    <tr style=\"text-align: right;\">\n",
       "      <th></th>\n",
       "      <th>ClientID</th>\n",
       "      <th>SegmentID</th>\n",
       "      <th>min_seg</th>\n",
       "      <th>max_seg</th>\n",
       "    </tr>\n",
       "  </thead>\n",
       "  <tbody>\n",
       "    <tr>\n",
       "      <th>0</th>\n",
       "      <td>A11111</td>\n",
       "      <td>1</td>\n",
       "      <td>2018-03-31</td>\n",
       "      <td>2018-04-30</td>\n",
       "    </tr>\n",
       "    <tr>\n",
       "      <th>1</th>\n",
       "      <td>A11111</td>\n",
       "      <td>2</td>\n",
       "      <td>2018-01-31</td>\n",
       "      <td>2018-03-31</td>\n",
       "    </tr>\n",
       "    <tr>\n",
       "      <th>2</th>\n",
       "      <td>B22222</td>\n",
       "      <td>1</td>\n",
       "      <td>2017-10-31</td>\n",
       "      <td>2017-11-30</td>\n",
       "    </tr>\n",
       "    <tr>\n",
       "      <th>3</th>\n",
       "      <td>B22222</td>\n",
       "      <td>3</td>\n",
       "      <td>2017-09-30</td>\n",
       "      <td>2017-10-31</td>\n",
       "    </tr>\n",
       "    <tr>\n",
       "      <th>4</th>\n",
       "      <td>C33333</td>\n",
       "      <td>1</td>\n",
       "      <td>2017-09-30</td>\n",
       "      <td>2017-10-31</td>\n",
       "    </tr>\n",
       "  </tbody>\n",
       "</table>\n",
       "</div>"
      ],
      "text/plain": [
       "  ClientID  SegmentID     min_seg     max_seg\n",
       "0   A11111          1  2018-03-31  2018-04-30\n",
       "1   A11111          2  2018-01-31  2018-03-31\n",
       "2   B22222          1  2017-10-31  2017-11-30\n",
       "3   B22222          3  2017-09-30  2017-10-31\n",
       "4   C33333          1  2017-09-30  2017-10-31"
      ]
     },
     "execution_count": 16,
     "metadata": {},
     "output_type": "execute_result"
    }
   ],
   "source": [
    "pd.read_sql(\"\"\"\n",
    "select ClientID, SegmentID, min_seg, COALESCE(min_seg_prev, max_seg) max_seg\n",
    "from(\n",
    "select *, lead(min_seg) over(PARTITION by ClientID order by date) min_seg_prev\n",
    "from(\n",
    "select *,\n",
    "min(date) over(PARTITION by ClientID, SegmentID) min_seg , \n",
    "max(date) over(PARTITION by ClientID, SegmentID) max_seg  \n",
    "from segment\n",
    ")\n",
    "where min_seg=date)\n",
    "order by ClientID,SegmentID, date,   SegmentID asc\n",
    "\"\"\"\n",
    ", conn)"
   ]
  },
  {
   "cell_type": "markdown",
   "id": "8689a468",
   "metadata": {},
   "source": [
    "#  Разметка и метрики"
   ]
  },
  {
   "cell_type": "raw",
   "id": "671ffceb",
   "metadata": {},
   "source": [
    "●\tКакие наборы метрик для оценки эффективности партнерской витрины вы можете предложить?\n",
    " Конверсии и Продажи, клики, количество повторных открытий, среднее время\n",
    "●\tОпишите возможный набор систем и способы их интеграции, которые позволят осуществлять трекинг полного пути пользователя и его конверсионных действий.\n",
    "Гугл аналитика, яндекс аналитика\n",
    "\n",
    "●\tКакие сырые данные нужны и в каком виде для полноты картины?\n",
    "Время сеанса, ид пользователя\n",
    "●\tКакая разметка коммуникаций и действий пользователя вам понадобится для отслеживания всего пути клиента?\n"
   ]
  },
  {
   "cell_type": "markdown",
   "id": "5e1a0285",
   "metadata": {},
   "source": [
    "# Когортный анализ"
   ]
  },
  {
   "cell_type": "markdown",
   "id": "4e492034",
   "metadata": {},
   "source": [
    "## Задание"
   ]
  },
  {
   "cell_type": "raw",
   "id": "0e3ada15",
   "metadata": {},
   "source": [
    "Приведите в качестве решения скриншот с результатом, а также свои комментарии относительно предложенного решения (с указанием среды, в которой решали задания). \n",
    "в приложенном файле хранятся данные об активности клиентов с сентября 2021 года по февраль 2022\n",
    "Необходимо на основе этих данных провести когортный анализ\n",
    "Данные: data_test.csv\n",
    "Описание полей: \n",
    "CLIENT_ID - идентификатор клиента; \n",
    "VALUE_DAY - отчетная дата; \n",
    "DIGITAL_30_CNT - кол-во входов в мобильное приложение за последние 30 дней на отчетную дату; \n",
    "TRAN_ACTIVE_30_CNT - кол-во транзакций в мобильном приложении за последние 30 дней на отчетную дату; \n",
    "OPER_ACTIVE_30_CNT - кол-во операций (транзакции+нефинансовые операции) в мобильном приложении за последние 30 дней на отчетную дату\n",
    "\n",
    "●\tпостройте визуальное представление удержания клиентов в статусе:\n",
    "○\t активных клиентов банка (наличие строки для клиента на отчетную дату); \n",
    "○\tдиджитал активных (активных в мобильном приложении: наличие хотя бы одного входа);\n",
    "○\tоперационно активных;\n",
    "○\tтранзакционно активных;\n",
    "●\tкакие выводы можно сделать на основе этих данных?;\n",
    "●\tесли построить проникновение транзакционно активных клиентов в когорты диджитал активных клиентов, то мы увидим, что существенная часть клиентов использует мобильное приложение, но не совершает транзакции (платежи и переводы) в нем. Какие гипотезы такого поведения можно предположить? Как их можно проверить ?;\n",
    "●\tкак можно исправить эту ситуацию и увеличить проникновение транзакционно активных клиентов в диджитал активных?\n"
   ]
  },
  {
   "cell_type": "code",
   "execution_count": 27,
   "id": "8196b06a",
   "metadata": {},
   "outputs": [],
   "source": [
    "data = pd.read_csv('https://raw.githubusercontent.com/Propsih/test/main/data_test.csv',sep=';')"
   ]
  },
  {
   "cell_type": "code",
   "execution_count": 28,
   "id": "df6c3735",
   "metadata": {},
   "outputs": [
    {
     "data": {
      "text/html": [
       "<div>\n",
       "<style scoped>\n",
       "    .dataframe tbody tr th:only-of-type {\n",
       "        vertical-align: middle;\n",
       "    }\n",
       "\n",
       "    .dataframe tbody tr th {\n",
       "        vertical-align: top;\n",
       "    }\n",
       "\n",
       "    .dataframe thead th {\n",
       "        text-align: right;\n",
       "    }\n",
       "</style>\n",
       "<table border=\"1\" class=\"dataframe\">\n",
       "  <thead>\n",
       "    <tr style=\"text-align: right;\">\n",
       "      <th></th>\n",
       "      <th>CLIENT_ID</th>\n",
       "      <th>VALUE_DAY</th>\n",
       "      <th>DIGITAL_30_CNT</th>\n",
       "      <th>TRAN_ACTIVE_30_CNT</th>\n",
       "      <th>OPER_ACTIVE_30_CNT</th>\n",
       "    </tr>\n",
       "  </thead>\n",
       "  <tbody>\n",
       "    <tr>\n",
       "      <th>724484</th>\n",
       "      <td>1813118018</td>\n",
       "      <td>28.02.2022</td>\n",
       "      <td>11.0</td>\n",
       "      <td>1.0</td>\n",
       "      <td>2.0</td>\n",
       "    </tr>\n",
       "    <tr>\n",
       "      <th>798317</th>\n",
       "      <td>1813118018</td>\n",
       "      <td>28.02.2022</td>\n",
       "      <td>3.0</td>\n",
       "      <td>1.0</td>\n",
       "      <td>2.0</td>\n",
       "    </tr>\n",
       "    <tr>\n",
       "      <th>557303</th>\n",
       "      <td>1813118018</td>\n",
       "      <td>31.01.2022</td>\n",
       "      <td>6.0</td>\n",
       "      <td>1.0</td>\n",
       "      <td>2.0</td>\n",
       "    </tr>\n",
       "    <tr>\n",
       "      <th>598226</th>\n",
       "      <td>1813118018</td>\n",
       "      <td>31.01.2022</td>\n",
       "      <td>10.0</td>\n",
       "      <td>2.0</td>\n",
       "      <td>2.0</td>\n",
       "    </tr>\n",
       "  </tbody>\n",
       "</table>\n",
       "</div>"
      ],
      "text/plain": [
       "         CLIENT_ID   VALUE_DAY  DIGITAL_30_CNT  TRAN_ACTIVE_30_CNT  \\\n",
       "724484  1813118018  28.02.2022            11.0                 1.0   \n",
       "798317  1813118018  28.02.2022             3.0                 1.0   \n",
       "557303  1813118018  31.01.2022             6.0                 1.0   \n",
       "598226  1813118018  31.01.2022            10.0                 2.0   \n",
       "\n",
       "        OPER_ACTIVE_30_CNT  \n",
       "724484                 2.0  \n",
       "798317                 2.0  \n",
       "557303                 2.0  \n",
       "598226                 2.0  "
      ]
     },
     "execution_count": 28,
     "metadata": {},
     "output_type": "execute_result"
    }
   ],
   "source": [
    "data[data.duplicated(['CLIENT_ID', 'VALUE_DAY'], keep=False)].sort_values(['CLIENT_ID', 'VALUE_DAY'])"
   ]
  },
  {
   "cell_type": "markdown",
   "id": "7a6fdd25",
   "metadata": {},
   "source": [
    "Есть дубликаты убирем те у которых значения ниже"
   ]
  },
  {
   "cell_type": "code",
   "execution_count": 29,
   "id": "68470579",
   "metadata": {},
   "outputs": [],
   "source": [
    "data = data.sort_values(['CLIENT_ID', 'VALUE_DAY'], ascending=False)\\\n",
    "                                                .drop_duplicates(['CLIENT_ID', 'VALUE_DAY']).reset_index(drop=True)"
   ]
  },
  {
   "cell_type": "code",
   "execution_count": 30,
   "id": "25a6906b",
   "metadata": {},
   "outputs": [],
   "source": [
    "data['VALUE_DAY'] = pd.to_datetime(data['VALUE_DAY'], dayfirst=True)"
   ]
  },
  {
   "cell_type": "code",
   "execution_count": 31,
   "id": "1293e600",
   "metadata": {},
   "outputs": [],
   "source": [
    "# Последняя дата в отчете!\n",
    "MAX_DATE = data['VALUE_DAY'].max()"
   ]
  },
  {
   "cell_type": "markdown",
   "id": "0446b987",
   "metadata": {},
   "source": [
    "Получаю дату регистрации и дату когорты"
   ]
  },
  {
   "cell_type": "code",
   "execution_count": 32,
   "id": "354c77e0",
   "metadata": {},
   "outputs": [],
   "source": [
    "data_reg = data.groupby('CLIENT_ID', as_index=False).agg(REG_DATE=('VALUE_DAY', 'min'), MAX_DATE=('VALUE_DAY', 'max'))"
   ]
  },
  {
   "cell_type": "code",
   "execution_count": 33,
   "id": "2878afe5",
   "metadata": {},
   "outputs": [],
   "source": [
    "data_reg['COHORT'] = data_reg['REG_DATE'].dt.strftime('%m_%y')"
   ]
  },
  {
   "cell_type": "code",
   "execution_count": 34,
   "id": "8e37c92b",
   "metadata": {},
   "outputs": [
    {
     "data": {
      "text/html": [
       "<div>\n",
       "<style scoped>\n",
       "    .dataframe tbody tr th:only-of-type {\n",
       "        vertical-align: middle;\n",
       "    }\n",
       "\n",
       "    .dataframe tbody tr th {\n",
       "        vertical-align: top;\n",
       "    }\n",
       "\n",
       "    .dataframe thead th {\n",
       "        text-align: right;\n",
       "    }\n",
       "</style>\n",
       "<table border=\"1\" class=\"dataframe\">\n",
       "  <thead>\n",
       "    <tr style=\"text-align: right;\">\n",
       "      <th></th>\n",
       "      <th>CLIENT_ID</th>\n",
       "      <th>REG_DATE</th>\n",
       "      <th>MAX_DATE</th>\n",
       "      <th>COHORT</th>\n",
       "    </tr>\n",
       "  </thead>\n",
       "  <tbody>\n",
       "    <tr>\n",
       "      <th>0</th>\n",
       "      <td>8294</td>\n",
       "      <td>2021-09-30</td>\n",
       "      <td>2022-02-28</td>\n",
       "      <td>09_21</td>\n",
       "    </tr>\n",
       "    <tr>\n",
       "      <th>1</th>\n",
       "      <td>10609</td>\n",
       "      <td>2021-09-30</td>\n",
       "      <td>2022-02-28</td>\n",
       "      <td>09_21</td>\n",
       "    </tr>\n",
       "    <tr>\n",
       "      <th>2</th>\n",
       "      <td>15465</td>\n",
       "      <td>2021-09-30</td>\n",
       "      <td>2022-02-28</td>\n",
       "      <td>09_21</td>\n",
       "    </tr>\n",
       "    <tr>\n",
       "      <th>3</th>\n",
       "      <td>69014</td>\n",
       "      <td>2021-09-30</td>\n",
       "      <td>2022-02-28</td>\n",
       "      <td>09_21</td>\n",
       "    </tr>\n",
       "    <tr>\n",
       "      <th>4</th>\n",
       "      <td>100397</td>\n",
       "      <td>2021-09-30</td>\n",
       "      <td>2022-02-28</td>\n",
       "      <td>09_21</td>\n",
       "    </tr>\n",
       "  </tbody>\n",
       "</table>\n",
       "</div>"
      ],
      "text/plain": [
       "   CLIENT_ID   REG_DATE   MAX_DATE COHORT\n",
       "0       8294 2021-09-30 2022-02-28  09_21\n",
       "1      10609 2021-09-30 2022-02-28  09_21\n",
       "2      15465 2021-09-30 2022-02-28  09_21\n",
       "3      69014 2021-09-30 2022-02-28  09_21\n",
       "4     100397 2021-09-30 2022-02-28  09_21"
      ]
     },
     "execution_count": 34,
     "metadata": {},
     "output_type": "execute_result"
    }
   ],
   "source": [
    "data_reg.head()"
   ]
  },
  {
   "cell_type": "code",
   "execution_count": 35,
   "id": "f93d7e3d",
   "metadata": {},
   "outputs": [],
   "source": [
    "data = data.merge(data_reg, on='CLIENT_ID', how='left')"
   ]
  },
  {
   "cell_type": "code",
   "execution_count": 36,
   "id": "afd84f37",
   "metadata": {},
   "outputs": [
    {
     "data": {
      "text/html": [
       "<div>\n",
       "<style scoped>\n",
       "    .dataframe tbody tr th:only-of-type {\n",
       "        vertical-align: middle;\n",
       "    }\n",
       "\n",
       "    .dataframe tbody tr th {\n",
       "        vertical-align: top;\n",
       "    }\n",
       "\n",
       "    .dataframe thead th {\n",
       "        text-align: right;\n",
       "    }\n",
       "</style>\n",
       "<table border=\"1\" class=\"dataframe\">\n",
       "  <thead>\n",
       "    <tr style=\"text-align: right;\">\n",
       "      <th></th>\n",
       "      <th>CLIENT_ID</th>\n",
       "      <th>VALUE_DAY</th>\n",
       "      <th>DIGITAL_30_CNT</th>\n",
       "      <th>TRAN_ACTIVE_30_CNT</th>\n",
       "      <th>OPER_ACTIVE_30_CNT</th>\n",
       "      <th>REG_DATE</th>\n",
       "      <th>MAX_DATE</th>\n",
       "      <th>COHORT</th>\n",
       "    </tr>\n",
       "  </thead>\n",
       "  <tbody>\n",
       "    <tr>\n",
       "      <th>0</th>\n",
       "      <td>4294935340</td>\n",
       "      <td>2021-12-31</td>\n",
       "      <td>67.0</td>\n",
       "      <td>14.0</td>\n",
       "      <td>23.0</td>\n",
       "      <td>2021-09-30</td>\n",
       "      <td>2022-01-31</td>\n",
       "      <td>09_21</td>\n",
       "    </tr>\n",
       "    <tr>\n",
       "      <th>1</th>\n",
       "      <td>4294935340</td>\n",
       "      <td>2021-10-31</td>\n",
       "      <td>74.0</td>\n",
       "      <td>17.0</td>\n",
       "      <td>30.0</td>\n",
       "      <td>2021-09-30</td>\n",
       "      <td>2022-01-31</td>\n",
       "      <td>09_21</td>\n",
       "    </tr>\n",
       "    <tr>\n",
       "      <th>2</th>\n",
       "      <td>4294935340</td>\n",
       "      <td>2022-01-31</td>\n",
       "      <td>52.0</td>\n",
       "      <td>8.0</td>\n",
       "      <td>17.0</td>\n",
       "      <td>2021-09-30</td>\n",
       "      <td>2022-01-31</td>\n",
       "      <td>09_21</td>\n",
       "    </tr>\n",
       "    <tr>\n",
       "      <th>3</th>\n",
       "      <td>4294935340</td>\n",
       "      <td>2021-11-30</td>\n",
       "      <td>53.0</td>\n",
       "      <td>9.0</td>\n",
       "      <td>14.0</td>\n",
       "      <td>2021-09-30</td>\n",
       "      <td>2022-01-31</td>\n",
       "      <td>09_21</td>\n",
       "    </tr>\n",
       "    <tr>\n",
       "      <th>4</th>\n",
       "      <td>4294935340</td>\n",
       "      <td>2021-09-30</td>\n",
       "      <td>85.0</td>\n",
       "      <td>13.0</td>\n",
       "      <td>19.0</td>\n",
       "      <td>2021-09-30</td>\n",
       "      <td>2022-01-31</td>\n",
       "      <td>09_21</td>\n",
       "    </tr>\n",
       "  </tbody>\n",
       "</table>\n",
       "</div>"
      ],
      "text/plain": [
       "    CLIENT_ID  VALUE_DAY  DIGITAL_30_CNT  TRAN_ACTIVE_30_CNT  \\\n",
       "0  4294935340 2021-12-31            67.0                14.0   \n",
       "1  4294935340 2021-10-31            74.0                17.0   \n",
       "2  4294935340 2022-01-31            52.0                 8.0   \n",
       "3  4294935340 2021-11-30            53.0                 9.0   \n",
       "4  4294935340 2021-09-30            85.0                13.0   \n",
       "\n",
       "   OPER_ACTIVE_30_CNT   REG_DATE   MAX_DATE COHORT  \n",
       "0                23.0 2021-09-30 2022-01-31  09_21  \n",
       "1                30.0 2021-09-30 2022-01-31  09_21  \n",
       "2                17.0 2021-09-30 2022-01-31  09_21  \n",
       "3                14.0 2021-09-30 2022-01-31  09_21  \n",
       "4                19.0 2021-09-30 2022-01-31  09_21  "
      ]
     },
     "execution_count": 36,
     "metadata": {},
     "output_type": "execute_result"
    }
   ],
   "source": [
    "data.head()"
   ]
  },
  {
   "cell_type": "code",
   "execution_count": 37,
   "id": "455c246f",
   "metadata": {},
   "outputs": [
    {
     "data": {
      "image/png": "[encoded data removed]",
      "text/plain": [
       "<Figure size 1080x216 with 1 Axes>"
      ]
     },
     "metadata": {
      "needs_background": "light"
     },
     "output_type": "display_data"
    }
   ],
   "source": [
    "data['COHORT'].hist(figsize = (15,3)) # Большинство людей из когорты 09_21\n",
    "None"
   ]
  },
  {
   "cell_type": "markdown",
   "id": "3ea82040",
   "metadata": {},
   "source": [
    "Получаю таблицу с последним действием клиента, больше всего пользователей из когорты 09_21"
   ]
  },
  {
   "cell_type": "code",
   "execution_count": 38,
   "id": "e9bf5b3f",
   "metadata": {},
   "outputs": [],
   "source": [
    "df_clients = data.query('MAX_DATE==VALUE_DAY').copy()"
   ]
  },
  {
   "cell_type": "code",
   "execution_count": 39,
   "id": "e3ad9f18",
   "metadata": {},
   "outputs": [],
   "source": [
    "df_clients = df_clients.drop(columns='VALUE_DAY').reset_index(drop=True)"
   ]
  },
  {
   "cell_type": "code",
   "execution_count": 40,
   "id": "f5a737c8",
   "metadata": {},
   "outputs": [
    {
     "data": {
      "text/plain": [
       "Timestamp('2022-02-28 00:00:00')"
      ]
     },
     "execution_count": 40,
     "metadata": {},
     "output_type": "execute_result"
    }
   ],
   "source": [
    "MAX_DATE"
   ]
  },
  {
   "cell_type": "code",
   "execution_count": 50,
   "id": "2c45791f",
   "metadata": {},
   "outputs": [
    {
     "data": {
      "text/plain": [
       "array([0, 3], dtype=int64)"
      ]
     },
     "execution_count": 50,
     "metadata": {},
     "output_type": "execute_result"
    }
   ],
   "source": [
    "# Количество пропусков либо 0 либо 3\n",
    "df_clients.isna().sum(axis=1).unique()"
   ]
  },
  {
   "cell_type": "markdown",
   "id": "0be141ec",
   "metadata": {},
   "source": [
    "### Статусы клиентов"
   ]
  },
  {
   "cell_type": "code",
   "execution_count": 51,
   "id": "1832fa66",
   "metadata": {},
   "outputs": [],
   "source": [
    "df_clients['ACTIV'] = (df_clients['MAX_DATE'] == MAX_DATE) & df_clients.DIGITAL_30_CNT.notna() & \\\n",
    "           df_clients.TRAN_ACTIVE_30_CNT.notna() & df_clients.OPER_ACTIVE_30_CNT.notna()\n",
    "\n"
   ]
  },
  {
   "cell_type": "code",
   "execution_count": 52,
   "id": "109e805f",
   "metadata": {},
   "outputs": [],
   "source": [
    "# Когда мы нашли активных мы можем заполнить пропуски нулями для других статусов\n",
    "df_clients = df_clients.fillna(0)"
   ]
  },
  {
   "cell_type": "code",
   "execution_count": 57,
   "id": "7c10e5a2",
   "metadata": {},
   "outputs": [],
   "source": [
    "df_clients['DIG_ACTIV'] = df_clients['ACTIV'] & (df_clients.DIGITAL_30_CNT!=0)\n",
    "df_clients['OPER_ACTIV'] = df_clients['ACTIV'] & (df_clients.TRAN_ACTIVE_30_CNT!=0)\n",
    "df_clients['TR_ACTIV'] = df_clients['ACTIV'] & (df_clients.OPER_ACTIVE_30_CNT!=0)"
   ]
  },
  {
   "cell_type": "markdown",
   "id": "1a5c5c6d",
   "metadata": {},
   "source": [
    "## Диджитал активные"
   ]
  },
  {
   "cell_type": "code",
   "execution_count": 99,
   "id": "805316bc",
   "metadata": {},
   "outputs": [
    {
     "data": {
      "text/plain": [
       "True     0.731489\n",
       "False    0.268511\n",
       "Name: DIG_ACTIV, dtype: float64"
      ]
     },
     "execution_count": 99,
     "metadata": {},
     "output_type": "execute_result"
    }
   ],
   "source": [
    "df_clients['DIG_ACTIV'].value_counts(normalize=True)"
   ]
  },
  {
   "cell_type": "markdown",
   "id": "364574cd",
   "metadata": {},
   "source": [
    "Достаточное выосокое удержание"
   ]
  },
  {
   "cell_type": "code",
   "execution_count": 105,
   "id": "c48f15c3",
   "metadata": {
    "scrolled": true
   },
   "outputs": [
    {
     "data": {
      "image/png": "[encoded data removed]",
      "text/plain": [
       "<Figure size 432x288 with 1 Axes>"
      ]
     },
     "metadata": {},
     "output_type": "display_data"
    }
   ],
   "source": [
    "df_clients['DIG_ACTIV'].value_counts(normalize=True).plot(kind='pie')\n",
    "plt.title('Pie-plot удержание в категории диджитал активные')\n",
    "None"
   ]
  },
  {
   "cell_type": "code",
   "execution_count": 155,
   "id": "5bf465ff",
   "metadata": {},
   "outputs": [
    {
     "data": {
      "image/png": "[encoded data removed]",
      "text/plain": [
       "<Figure size 720x360 with 1 Axes>"
      ]
     },
     "metadata": {
      "needs_background": "light"
     },
     "output_type": "display_data"
    }
   ],
   "source": [
    "plt.figure(figsize=(10, 5))\n",
    "plt.grid(True)\n",
    "sns.histplot(df_clients, x='COHORT', hue='DIG_ACTIV', shrink=.9)\n",
    "plt.title('Удержание по когортам')\n",
    "None"
   ]
  },
  {
   "cell_type": "markdown",
   "id": "882fd419",
   "metadata": {},
   "source": [
    "Удержание в группе сильно зависит от когорты"
   ]
  },
  {
   "cell_type": "markdown",
   "id": "a2c4141e",
   "metadata": {},
   "source": [
    "## Транзакционно  активные"
   ]
  },
  {
   "cell_type": "code",
   "execution_count": 167,
   "id": "f2164465",
   "metadata": {},
   "outputs": [
    {
     "data": {
      "text/plain": [
       "True     0.593103\n",
       "False    0.406897\n",
       "Name: TR_ACTIV, dtype: float64"
      ]
     },
     "execution_count": 167,
     "metadata": {},
     "output_type": "execute_result"
    }
   ],
   "source": [
    "df_clients['TR_ACTIV'].value_counts(normalize=True)"
   ]
  },
  {
   "cell_type": "markdown",
   "id": "03d925c0",
   "metadata": {},
   "source": [
    "Удержание 60 на 50 хуже чем у диджитал активных"
   ]
  },
  {
   "cell_type": "code",
   "execution_count": 169,
   "id": "c033bb68",
   "metadata": {
    "scrolled": true
   },
   "outputs": [
    {
     "data": {
      "image/png": "[encoded data removed]",
      "text/plain": [
       "<Figure size 432x288 with 1 Axes>"
      ]
     },
     "metadata": {},
     "output_type": "display_data"
    }
   ],
   "source": [
    "df_clients['TR_ACTIV'].value_counts(normalize=True).plot(kind='pie')\n",
    "plt.title('Pie-plot удержание в категории тр. активные')\n",
    "None"
   ]
  },
  {
   "cell_type": "code",
   "execution_count": 170,
   "id": "35e89d0b",
   "metadata": {},
   "outputs": [
    {
     "data": {
      "image/png": "[encoded data removed]",
      "text/plain": [
       "<Figure size 720x360 with 1 Axes>"
      ]
     },
     "metadata": {
      "needs_background": "light"
     },
     "output_type": "display_data"
    }
   ],
   "source": [
    "plt.figure(figsize=(10, 5))\n",
    "plt.grid(True)\n",
    "sns.histplot(df_clients, x='COHORT', hue='TR_ACTIV', shrink=.9)\n",
    "plt.title('Удержание по когортам')\n",
    "None"
   ]
  },
  {
   "cell_type": "markdown",
   "id": "8a083a26",
   "metadata": {},
   "source": [
    "Есть \"удачные\" когорты так и когорты с совсем низким удержанием"
   ]
  },
  {
   "cell_type": "markdown",
   "id": "2add3f97",
   "metadata": {},
   "source": [
    "## Операционо активные"
   ]
  },
  {
   "cell_type": "code",
   "execution_count": 160,
   "id": "ddce0593",
   "metadata": {},
   "outputs": [
    {
     "data": {
      "text/plain": [
       "True     0.541965\n",
       "False    0.458035\n",
       "Name: OPER_ACTIV, dtype: float64"
      ]
     },
     "execution_count": 160,
     "metadata": {},
     "output_type": "execute_result"
    }
   ],
   "source": [
    "df_clients['OPER_ACTIV'].value_counts(normalize=True)"
   ]
  },
  {
   "cell_type": "markdown",
   "id": "1a5a9f75",
   "metadata": {},
   "source": [
    "Удержание 50 на 50 хуже чем у диджитал активных"
   ]
  },
  {
   "cell_type": "code",
   "execution_count": 161,
   "id": "61a2ac5f",
   "metadata": {
    "scrolled": true
   },
   "outputs": [
    {
     "data": {
      "image/png": "[encoded data removed]",
      "text/plain": [
       "<Figure size 432x288 with 1 Axes>"
      ]
     },
     "metadata": {},
     "output_type": "display_data"
    }
   ],
   "source": [
    "df_clients['OPER_ACTIV'].value_counts(normalize=True).plot(kind='pie')\n",
    "plt.title('Pie-plot удержание в категории опер. активные')\n",
    "None"
   ]
  },
  {
   "cell_type": "code",
   "execution_count": 162,
   "id": "f9b63fe3",
   "metadata": {},
   "outputs": [
    {
     "data": {
      "image/png": "[encoded data removed]",
      "text/plain": [
       "<Figure size 720x360 with 1 Axes>"
      ]
     },
     "metadata": {
      "needs_background": "light"
     },
     "output_type": "display_data"
    }
   ],
   "source": [
    "plt.figure(figsize=(10, 5))\n",
    "plt.grid(True)\n",
    "sns.histplot(df_clients, x='COHORT', hue='OPER_ACTIV', shrink=.9)\n",
    "plt.title('Удержание по когортам')\n",
    "None"
   ]
  },
  {
   "cell_type": "markdown",
   "id": "8434b76e",
   "metadata": {},
   "source": [
    "Дисперсия в данных меньше чем у диджитал активных, наверное были эксперементы связанные с удержанием диджитал активных"
   ]
  },
  {
   "cell_type": "code",
   "execution_count": null,
   "id": "c81bd215",
   "metadata": {},
   "outputs": [],
   "source": []
  }
 ],
 "metadata": {
  "kernelspec": {
   "display_name": "Python 3 (ipykernel)",
   "language": "python",
   "name": "python3"
  },
  "language_info": {
   "codemirror_mode": {
    "name": "ipython",
    "version": 3
   },
   "file_extension": ".py",
   "mimetype": "text/x-python",
   "name": "python",
   "nbconvert_exporter": "python",
   "pygments_lexer": "ipython3",
   "version": "3.9.12"
  },
  "toc": {
   "base_numbering": 1,
   "nav_menu": {},
   "number_sections": true,
   "sideBar": true,
   "skip_h1_title": false,
   "title_cell": "Table of Contents",
   "title_sidebar": "Contents",
   "toc_cell": false,
   "toc_position": {
    "height": "calc(100% - 180px)",
    "left": "10px",
    "top": "150px",
    "width": "279.273px"
   },
   "toc_section_display": true,
   "toc_window_display": true
  },
  "varInspector": {
   "cols": {
    "lenName": 16,
    "lenType": 16,
    "lenVar": 40
   },
   "kernels_config": {
    "python": {
     "delete_cmd_postfix": "",
     "delete_cmd_prefix": "del ",
     "library": "var_list.py",
     "varRefreshCmd": "print(var_dic_list())"
    },
    "r": {
     "delete_cmd_postfix": ") ",
     "delete_cmd_prefix": "rm(",
     "library": "var_list.r",
     "varRefreshCmd": "cat(var_dic_list()) "
    }
   },
   "types_to_exclude": [
    "module",
    "function",
    "builtin_function_or_method",
    "instance",
    "_Feature"
   ],
   "window_display": false
  }
 },
 "nbformat": 4,
 "nbformat_minor": 5
}
